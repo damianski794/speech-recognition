{
 "cells": [
  {
   "cell_type": "markdown",
   "id": "6ee91229",
   "metadata": {},
   "source": [
    "# preprocessing"
   ]
  },
  {
   "cell_type": "code",
   "execution_count": null,
   "id": "b4743c3b",
   "metadata": {},
   "outputs": [],
   "source": [
    "import csv\n",
    "import os\n",
    "import random\n",
    "import shutil\n",
    "from typing import List\n",
    "\n",
    "import librosa\n",
    "import matplotlib.pyplot as plt\n",
    "import numpy as np\n",
    "import scipy.io.wavfile\n",
    "from tqdm import tqdm\n",
    "\n",
    "from IPython.display import Audio \n",
    "import IPython.display as ipd\n"
   ]
  },
  {
   "cell_type": "code",
   "execution_count": null,
   "id": "2a6a0b2d",
   "metadata": {},
   "outputs": [],
   "source": [
    "%matplotlib inline"
   ]
  },
  {
   "cell_type": "code",
   "execution_count": null,
   "id": "eefd4e8d",
   "metadata": {},
   "outputs": [],
   "source": [
    "sample_file = 'train/audio/bed/00f0204f_nohash_0.wav'\n",
    "sample_file2 = 'train/audio/bed/00f0204f_nohash_1.wav'"
   ]
  },
  {
   "cell_type": "code",
   "execution_count": null,
   "id": "333a39db",
   "metadata": {},
   "outputs": [],
   "source": [
    "ipd.Audio(sample_file, autoplay=True)"
   ]
  },
  {
   "cell_type": "code",
   "execution_count": null,
   "id": "9b8d60d1",
   "metadata": {
    "scrolled": true
   },
   "outputs": [],
   "source": [
    "librosa.load(sample_file)"
   ]
  },
  {
   "cell_type": "code",
   "execution_count": null,
   "id": "397f8ad1",
   "metadata": {},
   "outputs": [],
   "source": [
    "SAMPLE_RATE = 16_000"
   ]
  },
  {
   "cell_type": "code",
   "execution_count": null,
   "id": "cf437be1",
   "metadata": {},
   "outputs": [],
   "source": [
    "# TODO\n",
    "# 1. Podanie klas, które są podstawowymi klasami\n",
    "# 2. Podanie klas, ktore są zbiorem \"other\"\n",
    "# 3. Podzielenie backgroud_noice na krótsze odcinki czasu i zaaplikowanie do zbioru danych treningowych/walidacyjnych/testowych\n",
    "# 4. Przygotowanie różnego sposobu kodowania sygnału np. mvcc i inne\n",
    "# 5. Augmentacja danych (noise_addition,backgroud_noice, pitch_scaling)\n",
    "# 5. Przygotowanie różnych modeli treningowych (rnn+lstm, rnn+gru, cnn, cnn - x2) + hyperparameter training, vision transformer\n",
    "#    ten sam z którego wcześniej korzystałem\n",
    "\n",
    "# Damian transformera dodać"
   ]
  },
  {
   "cell_type": "code",
   "execution_count": null,
   "id": "227506e8",
   "metadata": {},
   "outputs": [],
   "source": [
    "basic_classes = [\n",
    "    'yes', 'no', 'up', 'down', 'left', 'right', 'on', 'off', 'stop', 'go'\n",
    "]\n",
    "\n",
    "# this are the \"other\" classes also named \"silence\"\n",
    "additional_classes = [\n",
    "    'zero', 'wow', 'two', 'tree', 'three', 'six', 'sheila', 'seven', 'one', 'nine', 'marvin', 'house', 'happy', 'four', 'five', 'eight', 'dog', 'cat', 'bird', 'bed'\n",
    "]\n",
    "\n",
    "all_classes = basic_classes + additional_classes\n",
    "\n",
    "assert len(all_classes) == 30, \"Incorrent number of classes\""
   ]
  },
  {
   "cell_type": "code",
   "execution_count": null,
   "id": "485b3c3b",
   "metadata": {},
   "outputs": [],
   "source": [
    "def create_short_background_noices_from_path(file_name: str, current_folder_path: str, destination_folder_path: str):\n",
    "    current_file_path = current_folder_path + \"/\" + file_name\n",
    "    signal, sr = librosa.load(current_file_path, sr = SAMPLE_RATE)\n",
    "    small_signals = np.array_split(signal, np.arange(SAMPLE_RATE, len(signal), SAMPLE_RATE))\n",
    "    for i, small_signal in enumerate(small_signals):\n",
    "        path_to_save_signal = destination_folder_path + \"/\" + file_name[:-4] + f\"_{str(i)}.wav\"\n",
    "        print(path_to_save_signal) # for debugging\n",
    "        scipy.io.wavfile.write(filename=path_to_save_signal, rate=SAMPLE_RATE, data=small_signal)\n",
    "\n",
    "def create_short_background_noices():\n",
    "    folder_name = r\"train\\audio\\_background_noise_\"\n",
    "    new_folder_name = r\"train\\audio\\_short_background_noise_\"\n",
    "    \n",
    "    if not os.path.exists(new_folder_name):\n",
    "        os.makedirs(new_folder_name)\n",
    "    \n",
    "    for file in os.listdir(folder_name):\n",
    "        if file.endswith(\".wav\"):\n",
    "            create_short_background_noices_from_path(file_name=file, \n",
    "                                                     current_folder_path=folder_name,\n",
    "                                                     destination_folder_path=new_folder_name)\n",
    "    "
   ]
  },
  {
   "cell_type": "code",
   "execution_count": null,
   "id": "83d52669",
   "metadata": {
    "scrolled": true
   },
   "outputs": [],
   "source": [
    "create_short_background_noices()"
   ]
  },
  {
   "cell_type": "code",
   "execution_count": null,
   "id": "07f4a2d3",
   "metadata": {},
   "outputs": [],
   "source": [
    "def get_all_validation_files():\n",
    "    with open('train/validation_list.txt') as ls:\n",
    "        files = [row[0] for row in csv.reader(ls)]\n",
    "        return files\n",
    "    \n",
    "def get_all_testing_files():\n",
    "    with open('train/testing_list.txt') as ls:\n",
    "        files = [row[0] for row in csv.reader(ls)]\n",
    "        return files\n",
    "\n",
    "validation_file_paths = get_all_validation_files() \n",
    "testing_file_paths = get_all_testing_files()"
   ]
  },
  {
   "cell_type": "code",
   "execution_count": null,
   "id": "79c25cb2",
   "metadata": {},
   "outputs": [],
   "source": [
    "def pad_signal(signal: np.ndarray):\n",
    "    size = signal.shape[0]\n",
    "    if size < SAMPLE_RATE:\n",
    "        return np.pad(signal, (0,SAMPLE_RATE - size), constant_values=(0,0))\n",
    "    elif size > SAMPLE_RATE:\n",
    "        return signal[:SAMPLE_RATE]\n",
    "    return signal"
   ]
  },
  {
   "cell_type": "code",
   "execution_count": null,
   "id": "1496c6aa",
   "metadata": {
    "scrolled": true
   },
   "outputs": [],
   "source": [
    "def create_necessary_folders_for_wav_files():\n",
    "    for class_name in all_classes:\n",
    "        # create folders for training\n",
    "        os.makedirs(\"train/audio_augmentations\", exist_ok=True)\n",
    "        os.makedirs(\"train/audio_augmentations/no_augmentations\", exist_ok=True)\n",
    "        os.makedirs(f\"train/audio_augmentations/no_augmentations/{class_name}\", exist_ok=True)\n",
    "        os.makedirs(\"train/audio_augmentations/pitch_scaling\", exist_ok=True)\n",
    "        os.makedirs(f\"train/audio_augmentations/pitch_scaling/{class_name}\", exist_ok=True)\n",
    "        os.makedirs(\"train/audio_augmentations/random_noice\", exist_ok=True)\n",
    "        os.makedirs(f\"train/audio_augmentations/random_noice/{class_name}\", exist_ok=True)\n",
    "        \n",
    "        # create folders for validation\n",
    "        os.makedirs(\"validation\", exist_ok=True)\n",
    "        os.makedirs(f\"validation/{class_name}\", exist_ok=True)\n",
    "        \n",
    "        # create folders for testing\n",
    "        os.makedirs(\"test\", exist_ok=True)\n",
    "        os.makedirs(f\"test/{class_name}\", exist_ok=True)\n",
    "        \n",
    "    \n",
    "        \n",
    "def split_sound_to_train_validation_test_sets():\n",
    "    split_counter = {\n",
    "        \"training\": 0,\n",
    "        \"validation\": 0,\n",
    "        \"testing\": 0\n",
    "                    }\n",
    "    for class_name in all_classes:\n",
    "        for file in os.listdir(f\"train/audio/{class_name}\"):\n",
    "            combined = class_name + '/' + file\n",
    "            \n",
    "            origin_path = f\"train/audio/{class_name}/{file}\"\n",
    "            signal, sr = librosa.load(origin_path, sr=SAMPLE_RATE)\n",
    "            signal = pad_signal(signal)\n",
    "            \n",
    "            if combined in validation_file_paths:\n",
    "                destination_path = f\"validation/{class_name}/{file}\"\n",
    "                split_counter[\"validation\"] += 1\n",
    "                scipy.io.wavfile.write(filename=destination_path, rate=SAMPLE_RATE, data=signal)\n",
    "                print(\"VALIDATION\", combined)\n",
    "                \n",
    "            elif combined in testing_file_paths:\n",
    "                destination_path = f\"test/{class_name}/{file}\"\n",
    "                scipy.io.wavfile.write(filename=destination_path, rate=SAMPLE_RATE, data=signal)\n",
    "                split_counter[\"testing\"] += 1\n",
    "                print(\"TESTING\", combined)\n",
    "                \n",
    "            else:\n",
    "                destination_path = f\"train/audio_augmentations/no_augmentations/{class_name}/{file}\"\n",
    "                scipy.io.wavfile.write(filename=destination_path, rate=SAMPLE_RATE, data=signal)\n",
    "                split_counter[\"training\"] += 1\n",
    "                print(\"TRAINING\", combined)\n",
    "                \n",
    "    print(split_counter)\n",
    "\n",
    "create_necessary_folders_for_wav_files()    \n",
    "split_sound_to_train_validation_test_sets()\n"
   ]
  },
  {
   "cell_type": "code",
   "execution_count": null,
   "id": "827a456b",
   "metadata": {},
   "outputs": [],
   "source": [
    "# split_counter = {'training': 51088, 'validation': 6798, 'testing': 6835}"
   ]
  },
  {
   "cell_type": "code",
   "execution_count": null,
   "id": "92d0f395",
   "metadata": {},
   "outputs": [],
   "source": [
    "def get_all_noice_files():\n",
    "    noice_directory = \"train/audio/_short_background_noise_\"\n",
    "    noice_files = []\n",
    "    for file in os.listdir(noice_directory):\n",
    "        noice_files.append(file)\n",
    "    return noice_files\n",
    "\n",
    "def get_random_noice_signal(all_sound_files: List[str]) -> np.ndarray:\n",
    "    noice_directory = \"train/audio/_short_background_noise_\"\n",
    "    random_file = random.choice(all_sound_files)\n",
    "    path = noice_directory + '/' + random_file\n",
    "    signal, _ = librosa.load(path, sr=SAMPLE_RATE)\n",
    "    return pad_signal(signal)\n",
    "\n",
    "all_noice_files = get_all_noice_files()\n",
    "\n",
    "get_random_noice_signal(all_noice_files)"
   ]
  },
  {
   "cell_type": "code",
   "execution_count": null,
   "id": "a5f2e723",
   "metadata": {},
   "outputs": [],
   "source": [
    "def combine_signals(s1: np.ndarray, s2: np.ndarray, s2_factor: float):\n",
    "    return s1 + s2 * s2_factor\n",
    "\n",
    "def create_noice_signal_augmentation(original_signal: np.ndarray):\n",
    "    return combine_signals(original_signal,\n",
    "                           get_random_noice_signal(all_noice_files),\n",
    "                           0.008)\n",
    "\n",
    "def create_pitch_signal_augmentation(original_signal: np.ndarray, shift_by: int):\n",
    "    #print(\"shift_by\", shift_by)\n",
    "    return librosa.effects.pitch_shift(original_signal, sr=SAMPLE_RATE, n_steps=shift_by)\n",
    "\n",
    "sample_signal, _ = librosa.load(sample_file, sr=SAMPLE_RATE)\n",
    "\n",
    "#ipd.Audio(create_pitch_signal_augmentation(sample_signal), rate=SAMPLE_RATE, autoplay=True)\n",
    "num_semitoner = int(np.random.randint(-1,4,1))\n",
    "ipd.Audio(create_pitch_signal_augmentation(sample_signal, num_semitoner), rate=SAMPLE_RATE, autoplay=True)"
   ]
  },
  {
   "cell_type": "code",
   "execution_count": null,
   "id": "d750dff9",
   "metadata": {
    "scrolled": true
   },
   "outputs": [],
   "source": [
    "def create_noice_augmentations():\n",
    "    for class_name in all_classes:\n",
    "        folder_name = f\"train/audio_augmentations/no_augmentations/{class_name}\"\n",
    "        for file in os.listdir(folder_name):\n",
    "            print(file)\n",
    "            origin_path = folder_name + '/' + file\n",
    "            signal, sr = librosa.load(origin_path, sr=SAMPLE_RATE)\n",
    "            signal = pad_signal(signal)\n",
    "            for i in range(5):\n",
    "                augmented_signal = create_noice_signal_augmentation(signal)\n",
    "                destination_path = f\"train/audio_augmentations/random_noice/{class_name}/{i}_{file}\"\n",
    "                scipy.io.wavfile.write(filename=destination_path, rate=SAMPLE_RATE, data=augmented_signal)\n",
    "                \n",
    "def create_pitch_augmentations():\n",
    "    for class_name in all_classes:\n",
    "        print(class_name)\n",
    "        folder_name = f\"train/audio_augmentations/no_augmentations/{class_name}\"\n",
    "        for file in os.listdir(folder_name):\n",
    "            print(class_name, file)\n",
    "            origin_path = folder_name + '/' + file\n",
    "            signal, sr = librosa.load(origin_path, sr=SAMPLE_RATE)\n",
    "            signal = pad_signal(signal)\n",
    "            for i in range(5):\n",
    "                augmented_signal = create_pitch_signal_augmentation(signal, i-1) #from -1 to 4\n",
    "                destination_path = f\"train/audio_augmentations/pitch_scaling/{class_name}/{i}_{file}\"\n",
    "                scipy.io.wavfile.write(filename=destination_path, rate=SAMPLE_RATE, data=augmented_signal)\n",
    "create_noice_augmentations()            \n",
    "create_pitch_augmentations()"
   ]
  },
  {
   "cell_type": "markdown",
   "id": "24d421d1",
   "metadata": {},
   "source": [
    "# extracting_features"
   ]
  },
  {
   "cell_type": "code",
   "execution_count": null,
   "id": "d20d1c0b",
   "metadata": {},
   "outputs": [],
   "source": [
    "def create_mfcc_feature(signal: np.ndarray):\n",
    "    mfccs =  librosa.feature.mfcc(y=signal, sr=SAMPLE_RATE, n_mfcc=25)\n",
    "    return mfccs\n",
    "\n",
    "def create_mel_spectogram(signal: np.ndarray):\n",
    "    S = librosa.feature.melspectrogram(y=signal, sr=SAMPLE_RATE, n_mels=128, fmax=8000)\n",
    "    S_dB = librosa.power_to_db(S, ref=np.max)\n",
    "    \n",
    "    return S_dB"
   ]
  },
  {
   "cell_type": "code",
   "execution_count": null,
   "id": "6e260a7c",
   "metadata": {
    "scrolled": false
   },
   "outputs": [],
   "source": [
    "# sample plot\n",
    "\n",
    "for i in range(1):\n",
    "    sample_signal, sr = librosa.load(sample_file, sr=SAMPLE_RATE)\n",
    "    mfcc_matrix = create_mfcc_feature(sample_signal)\n",
    "    print(mfcc_matrix.shape)\n",
    "librosa.display.specshow(mfcc_matrix, \n",
    "                         x_axis='time', sr=SAMPLE_RATE)\n",
    "plt.colorbar(format=\"%+2.f\")\n",
    "plt.show()"
   ]
  },
  {
   "cell_type": "code",
   "execution_count": null,
   "id": "e975453c",
   "metadata": {
    "scrolled": false
   },
   "outputs": [],
   "source": [
    "librosa.display.waveshow(sample_signal, sr=sr)\n",
    "plt.plot();"
   ]
  },
  {
   "cell_type": "code",
   "execution_count": null,
   "id": "072e5a6d",
   "metadata": {
    "scrolled": true
   },
   "outputs": [],
   "source": [
    "# waveplot, mfccs and mel-spectogram one per class_name\n",
    "for class_name in all_classes:\n",
    "    print(class_name)\n",
    "    plt.figure(figsize=(3,3))\n",
    "    folder_name = f\"train/audio_augmentations/no_augmentations/{class_name}\"\n",
    "    sound_file = os.listdir(folder_name)[0]\n",
    "    signal, _ = librosa.load(folder_name + \"/\" + sound_file, sr=SAMPLE_RATE)\n",
    "    librosa.display.waveshow(signal, sr=SAMPLE_RATE)\n",
    "    plt.title(class_name)\n",
    "    plt.plot();\n",
    "    plt.show()\n",
    "    \n",
    "    mfccs = create_mfcc_feature(signal)\n",
    "    plt.figure(figsize=(3,3))\n",
    "    librosa.display.specshow(mfccs, \n",
    "                         y_axis='time', sr=SAMPLE_RATE)\n",
    "    plt.colorbar(format=\"%+2.f\")\n",
    "    plt.title(class_name)\n",
    "    plt.show()\n",
    "    \n",
    "    \n",
    "    mel_spectogram = create_mel_spectogram(signal)\n",
    "    print(\"mel_spectogram.shape\", mel_spectogram.shape)\n",
    "    plt.figure(figsize=(3,3))\n",
    "    librosa.display.specshow(mel_spectogram, x_axis='time',\n",
    "                            y_axis='mel', sr=SAMPLE_RATE,\n",
    "                            fmax=8000)\n",
    "    plt.colorbar(format='%+2.0f dB')\n",
    "    plt.title(f'{class_name} Mel-frequency spectrogram')\n",
    "    plt.show()\n",
    "    print('=======================')"
   ]
  },
  {
   "cell_type": "markdown",
   "id": "3be430ae",
   "metadata": {},
   "source": [
    "### mappings from classes to indices / vice-versa"
   ]
  },
  {
   "cell_type": "code",
   "execution_count": null,
   "id": "daff88e5",
   "metadata": {},
   "outputs": [],
   "source": [
    "class_name_to_idx = {class_name: idx for idx, class_name in enumerate(all_classes)}\n",
    "idx_to_class_name = {idx: class_name for idx, class_name in enumerate(all_classes)}"
   ]
  },
  {
   "cell_type": "code",
   "execution_count": null,
   "id": "13bc0bd5",
   "metadata": {},
   "outputs": [],
   "source": [
    "def create_file_list_and_labels_for_folder(folder_name: str):\n",
    "    file_full_paths = []\n",
    "    class_names = []\n",
    "    for class_name in all_classes:\n",
    "        for file in os.listdir(f\"{folder_name}/{class_name}\"):\n",
    "            full_path = f\"{folder_name}/{class_name}/{file}\"\n",
    "            file_full_paths.append(full_path)\n",
    "            class_names.append(class_name)\n",
    "                \n",
    "    return file_full_paths, class_names\n",
    "\n",
    "x_train_no_augmentations_file_list, y_train_no_augmentations_class_names = create_file_list_and_labels_for_folder(\n",
    "    \"train/audio_augmentations/no_augmentations\"\n",
    ")\n",
    "x_train_pitch_augmentation_file_list, y_train_pitch_augmentation_class_names = create_file_list_and_labels_for_folder(\n",
    "    \"train/audio_augmentations/pitch_scaling\"\n",
    ")\n",
    "x_train_noice_augmentation_file_list, y_train_noice_augmentation_class_names = create_file_list_and_labels_for_folder(\n",
    "    \"train/audio_augmentations/random_noice\"\n",
    ")\n",
    "x_validation_file_list, y_validation_class_names = create_file_list_and_labels_for_folder(\n",
    "    \"validation\"\n",
    ")\n",
    "x_test_file_list, y_test_class_names = create_file_list_and_labels_for_folder(\n",
    "    \"test\"\n",
    ")"
   ]
  },
  {
   "cell_type": "code",
   "execution_count": null,
   "id": "c79639f8",
   "metadata": {
    "scrolled": true
   },
   "outputs": [],
   "source": [
    "def get_signal_from_path(path: str):\n",
    "    return librosa.load(path, sr=SAMPLE_RATE)\n",
    "\n",
    "def get_numpy_numeric_vector_from_str_labels(labels: List[str]):\n",
    "    numeric_labels = [None] * len(labels)\n",
    "    for i, label in enumerate(labels):\n",
    "        numeric_labels[i] = class_name_to_idx[label]\n",
    "    return np.array(numeric_labels)\n",
    "\n",
    "def prepare_numpy_X_mfcc_and_y_from_files(file_full_paths: List[str], labels: List[str]):\n",
    "    mfccs = np.zeros((len(file_full_paths), 25, 32))\n",
    "    \n",
    "    print(file_full_paths[0]) # for debugging\n",
    "    for i in tqdm(range(len(file_full_paths))):\n",
    "        signal, sr = get_signal_from_path(file_full_paths[i])\n",
    "        mfccs[i] = create_mfcc_feature(signal)\n",
    "    \n",
    "    y_numeric  = get_numpy_numeric_vector_from_str_labels(labels)\n",
    "    \n",
    "    return mfccs, y_numeric\n",
    "\n",
    "def prepare_numpy_X_mel_spectogram_and_y_from_files(file_full_paths: List[str], labels: List[str]):\n",
    "    mel_spectograms = np.zeros((len(file_full_paths), 128, 32))\n",
    "    \n",
    "    print(file_full_paths[0]) # f0r debugging\n",
    "    for i in tqdm(range(len(file_full_paths))):\n",
    "        signal, sr = get_signal_from_path(file_full_paths[i])\n",
    "        mel_spectograms[i] = create_mel_spectogram(signal)\n",
    "    \n",
    "    y_numeric  = get_numpy_numeric_vector_from_str_labels(labels)\n",
    "    \n",
    "    return mel_spectograms, y_numeric\n",
    "\n"
   ]
  },
  {
   "cell_type": "code",
   "execution_count": null,
   "id": "ed18f18e",
   "metadata": {},
   "outputs": [],
   "source": [
    "def get_and_save_all_mfccs_and_labels():\n",
    "    \n",
    "    train no augmentation\n",
    "    X_mfcc, y = prepare_numpy_X_mfcc_and_y_from_files(x_train_no_augmentations_file_list, y_train_no_augmentations_class_names)\n",
    "    np.save(\"numpy_arrays/X_train_mfcc_unaugmented.npy\", X_mfcc)\n",
    "    np.save(\"numpy_arrays/y_train_unaugmented.npy\", y)\n",
    "    \n",
    "    # train noice augmentation\n",
    "    X_mfcc, y = prepare_numpy_X_mfcc_and_y_from_files(x_train_noice_augmentation_file_list, y_train_noice_augmentation_class_names)\n",
    "    np.save(\"numpy_arrays/X_train_mfcc_noice_augmentation.npy\", X_mfcc)\n",
    "    np.save(\"numpy_arrays/y_train_mfcc_noice_augmentation.npy\", y)\n",
    "    \n",
    "    # train pitch augmentation\n",
    "    X_mfcc, y = prepare_numpy_X_mfcc_and_y_from_files(x_train_pitch_augmentation_file_list, y_train_pitch_augmentation_class_names)\n",
    "    np.save(\"numpy_arrays/X_train_mfcc_pitch_augmentation.npy\", X_mfcc)\n",
    "    np.save(\"numpy_arrays/y_train_mfcc_pitch_augmentation.npy\", y)\n",
    "    \n",
    "    # validation\n",
    "    X_mfcc, y = prepare_numpy_X_mfcc_and_y_from_files(x_validation_file_list, y_validation_class_names)\n",
    "    np.save(\"numpy_arrays/X_validation_mfcc.npy\", X_mfcc)\n",
    "    np.save(\"numpy_arrays/y_validation_mfcc.npy\", y)\n",
    "    \n",
    "    # test\n",
    "    X_mfcc, y = prepare_numpy_X_mfcc_and_y_from_files(x_test_file_list, y_test_class_names)\n",
    "    np.save(\"numpy_arrays/X_test_mfcc.npy\", X_mfcc)\n",
    "    np.save(\"numpy_arrays/y_test_mfcc.npy\", y)\n",
    "\n",
    "    \n",
    "def get_and_save_all_mel_spectograms_and_labels():\n",
    "    train noice augmentation\n",
    "    X, y = prepare_numpy_X_mel_spectogram_and_y_from_files(x_train_noice_augmentation_file_list, y_train_noice_augmentation_class_names)\n",
    "    np.save(\"numpy_arrays/X_train_mel_spectogram_noice_augmentation.npy\", X)\n",
    "    np.save(\"numpy_arrays/y_train_mel_spectogram_noice_augmentation.npy\", y)\n",
    "    \n",
    "    # train pitch augmentation\n",
    "    X, y = prepare_numpy_X_mel_spectogram_and_y_from_files(x_train_pitch_augmentation_file_list, y_train_pitch_augmentation_class_names)\n",
    "    np.save(\"numpy_arrays/X_train_mel_spectogram_pitch_augmentation.npy\", X)\n",
    "    np.save(\"numpy_arrays/y_train_mel_spectogram_pitch_augmentation.npy\", y)\n",
    "    \n",
    "    # train no augmentation\n",
    "    X, y = prepare_numpy_X_mel_spectogram_and_y_from_files(x_train_no_augmentations_file_list, y_train_no_augmentations_class_names)\n",
    "    np.save(\"numpy_arrays/X_train_mel_spectogram_unaugmented.npy\", X)\n",
    "    np.save(\"numpy_arrays/y_train_mel_spectogram_unaugmented.npy\", y)\n",
    "    \n",
    "    # validation\n",
    "    X, y = prepare_numpy_X_mel_spectogram_and_y_from_files(x_validation_file_list, y_validation_class_names)\n",
    "    np.save(\"numpy_arrays/X_validation_mel_spectogram.npy\", X)\n",
    "    np.save(\"numpy_arrays/y_validation_mel_spectogram.npy\", y)\n",
    "    \n",
    "    # test\n",
    "    X, y = prepare_numpy_X_mel_spectogram_and_y_from_files(x_test_file_list, y_test_class_names)\n",
    "    np.save(\"numpy_arrays/X_test_mel_spectogram.npy\", X)\n",
    "    np.save(\"numpy_arrays/y_test_mel_spectogram.npy\", y)"
   ]
  },
  {
   "cell_type": "code",
   "execution_count": null,
   "id": "06da8b38",
   "metadata": {},
   "outputs": [],
   "source": [
    "os.makedirs(f\"numpy_arrays\", exist_ok=True)"
   ]
  },
  {
   "cell_type": "code",
   "execution_count": null,
   "id": "309141fd",
   "metadata": {},
   "outputs": [],
   "source": [
    "get_and_save_all_mfccs_and_labels()"
   ]
  },
  {
   "cell_type": "code",
   "execution_count": null,
   "id": "1ee90bc4",
   "metadata": {},
   "outputs": [],
   "source": [
    "get_and_save_all_mel_spectograms_and_labels()"
   ]
  }
 ],
 "metadata": {
  "kernelspec": {
   "display_name": "Python 3 (ipykernel)",
   "language": "python",
   "name": "python3"
  },
  "language_info": {
   "codemirror_mode": {
    "name": "ipython",
    "version": 3
   },
   "file_extension": ".py",
   "mimetype": "text/x-python",
   "name": "python",
   "nbconvert_exporter": "python",
   "pygments_lexer": "ipython3",
   "version": "3.7.12"
  }
 },
 "nbformat": 4,
 "nbformat_minor": 5
}
